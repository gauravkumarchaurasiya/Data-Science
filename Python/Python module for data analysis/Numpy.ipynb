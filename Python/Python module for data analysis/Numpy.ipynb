{
 "cells": [
  {
   "cell_type": "code",
   "execution_count": 1,
   "id": "dd8c7704",
   "metadata": {},
   "outputs": [],
   "source": [
    "import numpy as np"
   ]
  },
  {
   "cell_type": "code",
   "execution_count": 4,
   "id": "5a13bee4",
   "metadata": {},
   "outputs": [
    {
     "name": "stdout",
     "output_type": "stream",
     "text": [
      "[5 6 7 3 5]\n",
      "[0 1 2 3 4 5 6 7 8 9]\n"
     ]
    }
   ],
   "source": [
    "# Numpy Provides\n",
    "\"\"\"\n",
    "Extension package to python for multi-dimensional arrays\n",
    "Closer to hardware(Efficiency)\n",
    "Designed for Scientific computation ( Convience)\n",
    "Also known as array oriented Computing\n",
    "\"\"\"\n",
    "# Numpy Array\n",
    "a=np.array([5,6,7,3,5])\n",
    "print(a)\n",
    "print(np.arange(10))"
   ]
  },
  {
   "cell_type": "code",
   "execution_count": 6,
   "id": "a9049db2",
   "metadata": {},
   "outputs": [
    {
     "name": "stdout",
     "output_type": "stream",
     "text": [
      "446 µs ± 24.3 µs per loop (mean ± std. dev. of 7 runs, 1,000 loops each)\n"
     ]
    }
   ],
   "source": [
    "# Why Numpy Array is Useful\n",
    "    #Memory Efficient Container\n",
    "    # Fast Numerical operations\n",
    "\n",
    "#python list\n",
    "l=range(1000)    \n",
    "%timeit [i**2 for i in l]"
   ]
  },
  {
   "cell_type": "code",
   "execution_count": 7,
   "id": "2ae7c69c",
   "metadata": {},
   "outputs": [
    {
     "name": "stdout",
     "output_type": "stream",
     "text": [
      "3.11 µs ± 183 ns per loop (mean ± std. dev. of 7 runs, 100,000 loops each)\n"
     ]
    }
   ],
   "source": [
    "#Numpy array\n",
    "a=np.arange(1000)\n",
    "%timeit a**2"
   ]
  },
  {
   "cell_type": "code",
   "execution_count": 8,
   "id": "0e5c0289",
   "metadata": {},
   "outputs": [],
   "source": [
    "# Here list is 200 times slower than nparray"
   ]
  },
  {
   "cell_type": "code",
   "execution_count": 18,
   "id": "624a6352",
   "metadata": {},
   "outputs": [
    {
     "name": "stdout",
     "output_type": "stream",
     "text": [
      "[0 1 2 3 4 5 6 7 8 9]\n",
      "1\n",
      "(10,)\n",
      "10\n",
      "\n",
      "[[1 2 3]\n",
      " [4 5 6]]\n",
      "2\n",
      "(2, 3)\n",
      "2\n",
      "\n",
      "[[[0 2 3]\n",
      "  [3 5 6]]\n",
      "\n",
      " [[6 7 8]\n",
      "  [9 1 2]]]\n",
      "3\n",
      "(2, 2, 3)\n",
      "2\n"
     ]
    }
   ],
   "source": [
    "#np methods\n",
    "\n",
    "a=np.arange(10)\n",
    "print(a)\n",
    "print(a.ndim) #returns the dimension of array\n",
    "print(a.shape) # size (of matrix or...)\n",
    "print(len(a)) # no. of rows\n",
    "print() # for an empty line\n",
    "#2-d array\n",
    "b=np.array([[1,2,3],[4,5,6]])\n",
    "print(b)\n",
    "print(b.ndim) #returns the dimension of array\n",
    "print(b.shape) # size (of matrix or...)\n",
    "print(len(b))\n",
    "print()\n",
    "#2-d array\n",
    "c=np.array([[[0,2,3],[3,5,6]],[[6,7,8],[9,1,2]]])\n",
    "print(c)\n",
    "print(c.ndim) #returns the dimension of array\n",
    "print(c.shape) # size (of matrix or...)\n",
    "print(len(c))\n"
   ]
  },
  {
   "cell_type": "code",
   "execution_count": 21,
   "id": "32b35949",
   "metadata": {},
   "outputs": [
    {
     "name": "stdout",
     "output_type": "stream",
     "text": [
      "[1 3 5 7 9]\n",
      "[ 0.  2.  4.  6.  8. 10.]\n"
     ]
    }
   ],
   "source": [
    "# np methods\n",
    "    #arange(start,end(excluded),step)\n",
    "x=np.arange(1,10,2)\n",
    "print(x)\n",
    "#linspace(linear space)  #it divides the [0,1] into n equals interval\n",
    "y=np.linspace(0,10,6) #start, end ,no of points\n",
    "print(y)"
   ]
  },
  {
   "cell_type": "code",
   "execution_count": 25,
   "id": "17fd2977",
   "metadata": {},
   "outputs": [
    {
     "data": {
      "text/plain": [
       "array([[1., 1., 1.],\n",
       "       [1., 1., 1.],\n",
       "       [1., 1., 1.]])"
      ]
     },
     "execution_count": 25,
     "metadata": {},
     "output_type": "execute_result"
    }
   ],
   "source": [
    "g=np.ones((3,3)) #takes arguments as tuple \n",
    "g "
   ]
  },
  {
   "cell_type": "code",
   "execution_count": 27,
   "id": "d93806f7",
   "metadata": {},
   "outputs": [
    {
     "name": "stdout",
     "output_type": "stream",
     "text": [
      "[[0. 0. 0.]\n",
      " [0. 0. 0.]]\n"
     ]
    }
   ],
   "source": [
    "print(np.zeros((2,3)))"
   ]
  },
  {
   "cell_type": "code",
   "execution_count": 29,
   "id": "d2ad9a0a",
   "metadata": {},
   "outputs": [
    {
     "data": {
      "text/plain": [
       "array([[1., 0., 0.],\n",
       "       [0., 1., 0.],\n",
       "       [0., 0., 1.],\n",
       "       [0., 0., 0.]])"
      ]
     },
     "execution_count": 29,
     "metadata": {},
     "output_type": "execute_result"
    }
   ],
   "source": [
    "np.eye(4,3) # create identity matrix"
   ]
  },
  {
   "cell_type": "code",
   "execution_count": 32,
   "id": "97436ba1",
   "metadata": {},
   "outputs": [
    {
     "data": {
      "text/plain": [
       "array([[1, 0, 0, 0],\n",
       "       [0, 2, 0, 0],\n",
       "       [0, 0, 3, 0],\n",
       "       [0, 0, 0, 4]])"
      ]
     },
     "execution_count": 32,
     "metadata": {},
     "output_type": "execute_result"
    }
   ],
   "source": [
    "d=np.diag([1,2,3,4]) #create a diagonal matrix of given value in the form of LIST\n",
    "d"
   ]
  },
  {
   "cell_type": "code",
   "execution_count": 34,
   "id": "fb6732be",
   "metadata": {},
   "outputs": [
    {
     "data": {
      "text/plain": [
       "array([1, 2, 3, 4])"
      ]
     },
     "execution_count": 34,
     "metadata": {},
     "output_type": "execute_result"
    }
   ],
   "source": [
    "np.diag(d) #extraction of diagonal elem for diag matrix"
   ]
  },
  {
   "cell_type": "code",
   "execution_count": 36,
   "id": "343ce658",
   "metadata": {},
   "outputs": [
    {
     "data": {
      "text/plain": [
       "array([0.80008097, 0.67469748, 0.36508185, 0.96060987])"
      ]
     },
     "execution_count": 36,
     "metadata": {},
     "output_type": "execute_result"
    }
   ],
   "source": [
    "a=np.random.rand(4)\n",
    "a"
   ]
  },
  {
   "cell_type": "code",
   "execution_count": 37,
   "id": "37df0fc4",
   "metadata": {},
   "outputs": [
    {
     "data": {
      "text/plain": [
       "array([ 0.42845894,  0.53556407,  0.13150768, -0.39008834])"
      ]
     },
     "execution_count": 37,
     "metadata": {},
     "output_type": "execute_result"
    }
   ],
   "source": [
    "np.random.randn(4)"
   ]
  },
  {
   "cell_type": "code",
   "execution_count": 43,
   "id": "6ead31ec",
   "metadata": {},
   "outputs": [
    {
     "data": {
      "text/plain": [
       "'\\nint64 #64 no. represent size only \\nfloat64 #default for zeros and ones\\ncomplex128\\nboolean\\ns6 #string\\ni #signed int \\nu #unsigned int\\nM #dateime\\nV #raw data(void)\\n\\n'"
      ]
     },
     "execution_count": 43,
     "metadata": {},
     "output_type": "execute_result"
    }
   ],
   "source": [
    "# Different Datatypes in numpy\n",
    "\"\"\"\n",
    "int64 #64 no. represent size only \n",
    "float64 #default for zeros and ones\n",
    "complex128\n",
    "boolean\n",
    "s6 #string\n",
    "i #signed int \n",
    "u #unsigned int\n",
    "M #dateime\n",
    "V #raw data(void)\n",
    "\n",
    "\"\"\""
   ]
  },
  {
   "cell_type": "code",
   "execution_count": 47,
   "id": "4f639291",
   "metadata": {},
   "outputs": [
    {
     "name": "stdout",
     "output_type": "stream",
     "text": [
      "[0 1 2 3 4 5 6 7 8 9] [0 2 4 6 8]\n",
      "True\n",
      "[5 1 2 3 4 5 6 7 8 9]\n",
      "[5 2 4 6 8]\n",
      "False\n"
     ]
    }
   ],
   "source": [
    "#Indexing and Slicing is same as list \n",
    "a=np.arange(10)\n",
    "b=a[::2]  #slicing make view of same memory \n",
    "print(a,b)\n",
    "print(np.shares_memory(a,b))\n",
    "b[0]=5\n",
    "print(a)\n",
    "\n",
    "# numpy share memory for slicing for memory efficient so due to same memory location if sliced var changed\n",
    "# then the change deflect on original array also.\n",
    "\n",
    "# to make a force full copy we use\n",
    "c=a[::2].copy()\n",
    "print(c)\n",
    "print(np.shares_memory(a,c)) #it does share same memory"
   ]
  },
  {
   "cell_type": "code",
   "execution_count": 52,
   "id": "f6483150",
   "metadata": {},
   "outputs": [
    {
     "name": "stdout",
     "output_type": "stream",
     "text": [
      "[ 0  1  2  3  4  5  6  7  8  9 10 11 12 13 14]\n",
      "[ 0  2  4  6  8 10 12 14]\n",
      "[-1  1 -1  3 -1  5 -1  7 -1  9 -1 11 -1 13 -1]\n"
     ]
    }
   ],
   "source": [
    "# Ques assign all even value to -1 in an array\n",
    "    #To do so we use fancy indexing also called (Masks) \n",
    "    # it creates copy not views\n",
    "arr=np.arange(15)\n",
    "print(arr)\n",
    "\n",
    "mask= arr%2==0\n",
    "extract_from_arr = arr[mask]\n",
    "print(extract_from_arr)\n",
    "arr[extract_from_arr]=-1\n",
    "print(arr)"
   ]
  },
  {
   "cell_type": "code",
   "execution_count": 58,
   "id": "1b13caa7",
   "metadata": {},
   "outputs": [
    {
     "name": "stdout",
     "output_type": "stream",
     "text": [
      "[ 5 11  2  3  4  5  6  7  8  9]\n",
      "11\n",
      "1\n"
     ]
    },
    {
     "data": {
      "text/plain": [
       "6.0"
      ]
     },
     "execution_count": 58,
     "metadata": {},
     "output_type": "execute_result"
    }
   ],
   "source": [
    "#operation done in Elementwise operation\n",
    "\n",
    "print(a)\n",
    "a[1]=11\n",
    "print(a.max())\n",
    "print(a.argmax()) # returns index of max element\n",
    "\n",
    "a.mean()"
   ]
  },
  {
   "cell_type": "code",
   "execution_count": 65,
   "id": "e8f16c01",
   "metadata": {},
   "outputs": [
    {
     "name": "stdout",
     "output_type": "stream",
     "text": [
      "[[ 0 10 20 30  0 10 20 30]\n",
      " [ 0 10 20 30  0 10 20 30]\n",
      " [ 0 10 20 30  0 10 20 30]]\n",
      "(3, 8)\n"
     ]
    }
   ],
   "source": [
    "a=np.arange(0,40,10)\n",
    "t=np.tile(a,(3,2)) #to place an array as a tile over and over 3 times (row) and 2 times of it \n",
    "print(t)\n",
    "print(t.shape)"
   ]
  },
  {
   "cell_type": "code",
   "execution_count": 91,
   "id": "8727adfe",
   "metadata": {},
   "outputs": [
    {
     "name": "stdout",
     "output_type": "stream",
     "text": [
      "[[1 2 3 4]\n",
      " [5 6 7 8]]\n",
      "[1 2 3 4 5 6 7 8]\n",
      "[[1 5]\n",
      " [2 6]\n",
      " [3 7]\n",
      " [4 8]]\n",
      "[1 5 2 6 3 7 4 8]\n",
      "\n",
      "[[1 2 3 4]\n",
      " [5 6 7 8]]\n",
      "[[1 2]\n",
      " [3 4]\n",
      " [5 6]\n",
      " [7 8]]\n"
     ]
    }
   ],
   "source": [
    "a=np.array([[1,2,3,4],[5,6,7,8]])\n",
    "print(a)\n",
    "r=a.ravel() #return a contiguous flattened array\n",
    "print(r)\n",
    "print(a.T)\n",
    "print(a.T.ravel())\n",
    "print()\n",
    "print(a)\n",
    "b=a.reshape(4,2) #Opposite of ravel\n",
    "print(b)"
   ]
  },
  {
   "cell_type": "code",
   "execution_count": 92,
   "id": "090460ae",
   "metadata": {},
   "outputs": [
    {
     "data": {
      "text/plain": [
       "array([0, 1, 2, 3, 0, 0, 0, 0])"
      ]
     },
     "execution_count": 92,
     "metadata": {},
     "output_type": "execute_result"
    }
   ],
   "source": [
    "#resize to definite size\n",
    "a=np.arange(4)\n",
    "a.resize((8,))\n",
    "a"
   ]
  },
  {
   "cell_type": "code",
   "execution_count": 98,
   "id": "7cb3c23f",
   "metadata": {},
   "outputs": [
    {
     "name": "stdout",
     "output_type": "stream",
     "text": [
      "[[3 4 5 6]\n",
      " [9 8 7 6]]\n",
      "[[3 4 5 6]\n",
      " [6 7 8 9]]\n",
      "\n",
      "[3 2 1 6]\n",
      "\n",
      "[2 1 0 3]\n"
     ]
    },
    {
     "data": {
      "text/plain": [
       "array([1, 2, 3, 6])"
      ]
     },
     "execution_count": 98,
     "metadata": {},
     "output_type": "execute_result"
    }
   ],
   "source": [
    "#sorting data\n",
    "a=np.array([[3,4,5,6],[9,8,7,6]])\n",
    "print(a)\n",
    "b=np.sort(a,axis=1)\n",
    "print(b)\n",
    "\n",
    "print()\n",
    "a=np.array([3,2,1,6])\n",
    "print(a)\n",
    "print()\n",
    "j=np.argsort(a) # return index in sorted order of array value\n",
    "print(j)\n",
    "a[j]"
   ]
  },
  {
   "cell_type": "code",
   "execution_count": null,
   "id": "657ba74a",
   "metadata": {},
   "outputs": [],
   "source": []
  }
 ],
 "metadata": {
  "kernelspec": {
   "display_name": "Python 3 (ipykernel)",
   "language": "python",
   "name": "python3"
  },
  "language_info": {
   "codemirror_mode": {
    "name": "ipython",
    "version": 3
   },
   "file_extension": ".py",
   "mimetype": "text/x-python",
   "name": "python",
   "nbconvert_exporter": "python",
   "pygments_lexer": "ipython3",
   "version": "3.9.12"
  }
 },
 "nbformat": 4,
 "nbformat_minor": 5
}
