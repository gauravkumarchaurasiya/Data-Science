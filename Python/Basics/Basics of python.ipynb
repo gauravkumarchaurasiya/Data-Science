{
 "cells": [
  {
   "cell_type": "code",
   "execution_count": 1,
   "id": "c774603c",
   "metadata": {},
   "outputs": [],
   "source": [
    "# Python was created by Guido Van Rossum in 1992. # comments - #, '' ,\"\"\" \"\"\""
   ]
  },
  {
   "cell_type": "code",
   "execution_count": 2,
   "id": "4e875414",
   "metadata": {},
   "outputs": [
    {
     "name": "stdout",
     "output_type": "stream",
     "text": [
      "Hello Gaurav 😎\n"
     ]
    }
   ],
   "source": [
    "print(\"Hello Gaurav 😎\")"
   ]
  },
  {
   "cell_type": "code",
   "execution_count": 3,
   "id": "4c72b82f",
   "metadata": {},
   "outputs": [
    {
     "name": "stdout",
     "output_type": "stream",
     "text": [
      "<class 'int'>\n",
      "4 <class 'str'>\n"
     ]
    }
   ],
   "source": [
    "# Variables in pythons \n",
    "# ( As python is dynamically type language) we don't need to declared it first as in c, cpp\n",
    "a = 4  # a is assign a value of 4 \n",
    "b = \"Genius\" \n",
    "\n",
    "print( type(a)) # return what type of var is this(data type)\n",
    "\n",
    "# we can cast a var from one datatype to other using casting \n",
    "a= str(a)\n",
    "print(a , type(a))"
   ]
  },
  {
   "cell_type": "code",
   "execution_count": 4,
   "id": "1a99c8fa",
   "metadata": {},
   "outputs": [],
   "source": [
    "\"\"\"# Rules for Python variables:\n",
    "\n",
    "    A variable name must start with a letter or the underscore character\n",
    "    A variable name cannot start with a number\n",
    "    A variable name can only contain alpha-numeric characters and underscores (A-z, 0-9, and _ )\n",
    "    Variable names are case-sensitive (age, Age and AGE are three different variables)\n",
    "    A variable name cannot be any of the Python keywords.\n",
    "\"\"\"\n",
    "# Illegal var name \n",
    "\"\"\"2myvar = \"Genius\"  # starts with num\n",
    "my-var = \"Genius\"  # special character(-)\n",
    "my var = \"Genius\"  # special character( space)\n",
    "\"\"\"\n",
    "\n",
    "myVariableName= \"Genius\" # camel case\n",
    "MyVariableName = \"genius\"  # Pascal case\n",
    "my_variable_naem = 'genius' # Snake case\n",
    "\n",
    "# Can assign multiple var at one line\n",
    "x, y, z = \"Orange\", \"Banana\", \"Cherry\"\n",
    "\n",
    "# Global and Local var\n",
    "x = \"awesome\" # global \n",
    "\n",
    "def myfunc():\n",
    "  x= 'hello'\n",
    "  print(x)  # local"
   ]
  },
  {
   "cell_type": "code",
   "execution_count": 5,
   "id": "268c3cbe",
   "metadata": {},
   "outputs": [
    {
     "name": "stdout",
     "output_type": "stream",
     "text": [
      "{'cherry', 'banana', 'apple'} frozenset({'cherry', 'banana', 'apple'}) True b'Hello' bytearray(b'\\x00\\x00\\x00\\x00\\x00') <memory at 0x000001954A673C40> None\n"
     ]
    }
   ],
   "source": [
    "#Built-in Data Types\n",
    "x = \"Hello World\" #str\n",
    "x = 20            #int\n",
    "x = 20.5          #float\t\n",
    "x = 1j            #complex\t\n",
    "x = [\"apple\", \"banana\", \"cherry\"] # list\t\n",
    "x = (\"apple\", \"banana\", \"cherry\")\t#tuple\t\n",
    "x = range(6)                     # range\t\n",
    "x = {\"name\" : \"John\", \"age\" : 36}  #dict\t\n",
    "x = {\"apple\", \"banana\", \"cherry\"}  # set\t\n",
    "y= frozenset({\"apple\", \"banana\", \"cherry\"})  #frozenset\t\n",
    "z = True\t #bool\t\n",
    "u = b\"Hello\"\t#bytes\t\n",
    "v =  bytearray(5)\t# bytearray\t\n",
    "w= memoryview(bytes(5))   # memoryview\t\n",
    "a = None         #    NoneType\t\n",
    "\n",
    "print(x,y,z,u,v,w,a)\n",
    "\n",
    "# We can type caste them to one other "
   ]
  },
  {
   "cell_type": "code",
   "execution_count": 6,
   "id": "4e6bda23",
   "metadata": {},
   "outputs": [
    {
     "data": {
      "text/plain": [
       "\"\\n'\\tSingle Quote\\t\\n\\\\\\tBackslash\\t\\n\\n\\tNew Line\\t\\n\\r\\tCarriage Return\\t\\n\\t\\tTab\\t\\n\\x08\\tBackspace\\t\\n\\x0c\\tForm Feed\\t\\n\\\\ooo\\tOctal value\\t\\n\\\\xhh\\tHex value\\n\""
      ]
     },
     "execution_count": 6,
     "metadata": {},
     "output_type": "execute_result"
    }
   ],
   "source": [
    "#Escape characters\n",
    "\n",
    "\"\"\"\n",
    "\\'\tSingle Quote\t\n",
    "\\\\\tBackslash\t\n",
    "\\n\tNew Line\t\n",
    "\\r\tCarriage Return\t\n",
    "\\t\tTab\t\n",
    "\\b\tBackspace\t\n",
    "\\f\tForm Feed\t\n",
    "\\ooo\tOctal value\t\n",
    "\\\\xhh\tHex value\n",
    "\"\"\"\n"
   ]
  },
  {
   "cell_type": "code",
   "execution_count": 7,
   "id": "dcbcc095",
   "metadata": {},
   "outputs": [
    {
     "name": "stdout",
     "output_type": "stream",
     "text": [
      "0000Genius\n"
     ]
    }
   ],
   "source": [
    "# String Methods\n",
    "\"\"\"\n",
    "capitalize()\tConverts the first character to upper case\n",
    "casefold()\tConverts string into lower case\n",
    "center()\tReturns a centered string\n",
    "count()\tReturns the number of times a specified value occurs in a string\n",
    "encode()\tReturns an encoded version of the string\n",
    "endswith()\tReturns true if the string ends with the specified value\n",
    "expandtabs()\tSets the tab size of the string\n",
    "find()\tSearches the string for a specified value and returns the position of where it was found\n",
    "format()\tFormats specified values in a string\n",
    "format_map()\tFormats specified values in a string\n",
    "index()\tSearches the string for a specified value and returns the position of where it was found\n",
    "isalnum()\tReturns True if all characters in the string are alphanumeric\n",
    "isalpha()\tReturns True if all characters in the string are in the alphabet\n",
    "isdecimal()\tReturns True if all characters in the string are decimals\n",
    "isdigit()\tReturns True if all characters in the string are digits\n",
    "isidentifier()\tReturns True if the string is an identifier\n",
    "islower()\tReturns True if all characters in the string are lower case\n",
    "isnumeric()\tReturns True if all characters in the string are numeric\n",
    "isprintable()\tReturns True if all characters in the string are printable\n",
    "isspace()\tReturns True if all characters in the string are whitespaces\n",
    "istitle()\tReturns True if the string follows the rules of a title\n",
    "isupper()\tReturns True if all characters in the string are upper case\n",
    "join()\tJoins the elements of an iterable to the end of the string\n",
    "ljust()\tReturns a left justified version of the string\n",
    "lower()\tConverts a string into lower case\n",
    "lstrip()\tReturns a left trim version of the string\n",
    "maketrans()\tReturns a translation table to be used in translations\n",
    "partition()\tReturns a tuple where the string is parted into three parts\n",
    "replace()\tReturns a string where a specified value is replaced with a specified value\n",
    "rfind()\tSearches the string for a specified value and returns the last position of where it was found\n",
    "rindex()\tSearches the string for a specified value and returns the last position of where it was found\n",
    "rjust()\tReturns a right justified version of the string\n",
    "rpartition()\tReturns a tuple where the string is parted into three parts\n",
    "rsplit()\tSplits the string at the specified separator, and returns a list\n",
    "rstrip()\tReturns a right trim version of the string\n",
    "split()\tSplits the string at the specified separator, and returns a list\n",
    "splitlines()\tSplits the string at line breaks and returns a list\n",
    "startswith()\tReturns true if the string starts with the specified value\n",
    "strip()\tReturns a trimmed version of the string\n",
    "swapcase()\tSwaps cases, lower case becomes upper case and vice versa\n",
    "title()\tConverts the first character of each word to upper case\n",
    "translate()\tReturns a translated string\n",
    "upper()\tConverts a string into upper case\n",
    "zfill()\tFills the string with a specified number of 0 values at the beginning\"\"\"\n",
    "x=\"Genius\"\n",
    "print(x.zfill(10))\n"
   ]
  },
  {
   "cell_type": "code",
   "execution_count": 8,
   "id": "61c5ffb7",
   "metadata": {},
   "outputs": [
    {
     "data": {
      "text/plain": [
       "'\\n()          \\tParentheses\\t\\n**          \\tExponentiation\\t\\n+x  -x  ~x        \\tUnary plus, unary minus, and bitwise NOT\\t\\n*  /  //  %\\t     Multiplication, division, floor division, and modulus\\t\\n+  -\\t           Addition and subtraction\\t\\n<<  >>\\t           Bitwise left and right shifts\\t\\n&\\t            Bitwise AND\\t\\n^\\t           Bitwise XOR\\t\\n|\\t              Bitwise OR\\t\\n==  !=  >  >=  <  <=  is  is not  in  not in \\tComparisons, identity, and membership operators\\t\\nnot\\t         Logical NOT\\t\\nand\\t         AND\\t\\nor\\t       OR\\n'"
      ]
     },
     "execution_count": 8,
     "metadata": {},
     "output_type": "execute_result"
    }
   ],
   "source": [
    "# Operators\n",
    "\"\"\"\n",
    "Python divides the operators in the following groups:\n",
    "\n",
    "    Arithmetic operators ( +,-,*,/,%,//,**)\n",
    "    Assignment operators (=, +=, &= , ...)\n",
    "    Comparison operators ( ==,!=,>,<,<=,>=)\n",
    "    Logical operators   (and, or ,not)\n",
    "    Identity operators   (is,is not)\n",
    "    Membership operators  (in,not in)\n",
    "    Bitwise operators   ( &,|,^,~,<<,>>)\n",
    "    \"\"\"\n",
    "# Operator Precedence\n",
    "\"\"\"\n",
    "()          \tParentheses\t\n",
    "**          \tExponentiation\t\n",
    "+x  -x  ~x        \tUnary plus, unary minus, and bitwise NOT\t\n",
    "*  /  //  %\t     Multiplication, division, floor division, and modulus\t\n",
    "+  -\t           Addition and subtraction\t\n",
    "<<  >>\t           Bitwise left and right shifts\t\n",
    "&\t            Bitwise AND\t\n",
    "^\t           Bitwise XOR\t\n",
    "|\t              Bitwise OR\t\n",
    "==  !=  >  >=  <  <=  is  is not  in  not in \tComparisons, identity, and membership operators\t\n",
    "not\t         Logical NOT\t\n",
    "and\t         AND\t\n",
    "or\t       OR\n",
    "\"\"\"\n"
   ]
  },
  {
   "cell_type": "code",
   "execution_count": 9,
   "id": "e7ad0828",
   "metadata": {},
   "outputs": [
    {
     "name": "stdout",
     "output_type": "stream",
     "text": [
      "[50, 65, 23, 82, 100]\n"
     ]
    },
    {
     "data": {
      "text/plain": [
       "'\\nappend()\\tAdds an element at the end of the list\\nclear()\\tRemoves all the elements from the list\\ncopy()\\tReturns a copy of the list\\ncount()\\tReturns the number of elements with the specified value\\nextend()\\tAdd the elements of a list (or any iterable), to the end of the current list\\nindex()\\tReturns the index of the first element with the specified value\\ninsert()\\tAdds an element at the specified position\\npop()\\tRemoves the element at the specified position\\nremove()\\tRemoves the item with the specified value\\nreverse()\\tReverses the order of the list\\nsort()\\tSorts the list'"
      ]
     },
     "execution_count": 9,
     "metadata": {},
     "output_type": "execute_result"
    }
   ],
   "source": [
    "# Lists\n",
    "\"\"\"\n",
    "Lists is a sequence data type\n",
    "lists can be modified , i.e, It is MUTABLE\n",
    "lists consists of multiple data types(int,string,bool)\n",
    "It is a ordered set of values enclose in square brackets []\n",
    "lists elements can be access by slicing (negative indexing also)\n",
    "\n",
    "# List slice\n",
    "newList=[ start : stop(excluded) : step]\n",
    "\n",
    "#insertion in lists\n",
    " x[5]= 10 # by indexing\n",
    " append() # to add an element at end of list\n",
    " insert(position, value) # to add an element at the any positon of list\n",
    " a.extend(b) # to add any iterable object to list\n",
    " \n",
    "# Remove list items\n",
    " a.remove(value) # to remove any specific value without index\n",
    " a.pop(1)  # to delete specific index value (default is last)\n",
    " del a[2] # to delete more than one element\n",
    " del a # to delete whole list\n",
    " a.clear() # it empties the list ( list still remains,but no content)\n",
    " \n",
    " # list Comprehension\n",
    "  newlist = [expression for item in iterable if condition == True]\n",
    "  eg. : newlist = [x for x in fruits if x != \"apple\"]\n",
    "        newlist = [x for x in range(10) if x < 5]\n",
    "        newlist = [x.upper() for x in fruits]\n",
    "        newlist = ['hello' for x in fruits]  # changing value of list\n",
    "        newlist = [x if x != \"banana\" else \"orange\" for x in fruits]\n",
    "        \n",
    " # sort list\n",
    " a.sort() # for alphabitacally sorting of string in asc\n",
    " a.sort(reverse= True)  # for desc order\n",
    " >it is case sensitive\n",
    " \n",
    " # you can pass a function as argument in sort func\n",
    " Eg.: \n",
    "\"\"\"\n",
    "def myfunc(n):\n",
    "  return abs(n - 50)\n",
    "\n",
    "thislist = [100, 50, 65, 82, 23]\n",
    "thislist.sort(key = myfunc)\n",
    "print(thislist)\n",
    "\n",
    "# to reverse a list regardless of alphabet\n",
    "thislist.reverse()\n",
    "\n",
    "# to force full make a copy of a list as list1=list2 list1 has a reference to list2 only\n",
    "mylist=thislist.copy()\n",
    "\n",
    "\n",
    "# List methods\n",
    "\"\"\"\n",
    "append()\tAdds an element at the end of the list\n",
    "clear()\tRemoves all the elements from the list\n",
    "copy()\tReturns a copy of the list\n",
    "count()\tReturns the number of elements with the specified value\n",
    "extend()\tAdd the elements of a list (or any iterable), to the end of the current list\n",
    "index()\tReturns the index of the first element with the specified value\n",
    "insert()\tAdds an element at the specified position\n",
    "pop()\tRemoves the element at the specified position\n",
    "remove()\tRemoves the item with the specified value\n",
    "reverse()\tReverses the order of the list\n",
    "sort()\tSorts the list\"\"\""
   ]
  },
  {
   "cell_type": "code",
   "execution_count": 10,
   "id": "04ae904c",
   "metadata": {},
   "outputs": [
    {
     "data": {
      "text/plain": [
       "'\\nTuples is declared using round brackets ()\\nTuples are IMMUTABLE ( CAN\\'T MODIFIED)\\nElements can be heterenous type (i.e, string, int)\\nAll the slicing fundamentals are same for tuples\\n\\nNote: t1[3]= 5 # cant be modified\\n\\nTo modified or change any element first convert tuple to list \\nthen after change again convert to tuple\\n\\n# Packing and Unpacking \\n> to make tuple elements as variable is known as packing and vice versa\\nEg. # for no. of var less we use *\\nfruits = (\"apple\", \"banana\", \"cherry\", \"strawberry\", \"raspberry\")\\n\\n(green, yellow, *red) = fruits\\n\\n# tuples methods\\n    count()  \\tReturns the number of times a specified value occurs in a tuple\\n    index() \\t Searches the tuple for a specified value and returns the position of where it was found\\n'"
      ]
     },
     "execution_count": 10,
     "metadata": {},
     "output_type": "execute_result"
    }
   ],
   "source": [
    "# Tuples \n",
    "\"\"\"\n",
    "Tuples is declared using round brackets ()\n",
    "Tuples are IMMUTABLE ( CAN'T MODIFIED)\n",
    "Elements can be heterenous type (i.e, string, int)\n",
    "All the slicing fundamentals are same for tuples\n",
    "\n",
    "Note: t1[3]= 5 # cant be modified\n",
    "\n",
    "To modified or change any element first convert tuple to list \n",
    "then after change again convert to tuple\n",
    "\n",
    "# Packing and Unpacking \n",
    "> to make tuple elements as variable is known as packing and vice versa\n",
    "Eg. # for no. of var less we use *\n",
    "fruits = (\"apple\", \"banana\", \"cherry\", \"strawberry\", \"raspberry\")\n",
    "\n",
    "(green, yellow, *red) = fruits\n",
    "\n",
    "# tuples methods\n",
    "    count()  \tReturns the number of times a specified value occurs in a tuple\n",
    "    index() \t Searches the tuple for a specified value and returns the position of where it was found\n",
    "\"\"\"\n"
   ]
  },
  {
   "cell_type": "code",
   "execution_count": 11,
   "id": "576e8cf2",
   "metadata": {},
   "outputs": [
    {
     "data": {
      "text/plain": [
       "'\\nA set is a collection which is unordered, unchangeable*, and unindexed.\\nSets are written with curly brackets.\\nDuplicate values will be ignored:\\n\\n# To add one item to a set use the add() method.\\n    thisset = {\"apple\", \"banana\", \"cherry\"}\\n    thisset.add(\"orange\")#To add items from another set into the current set, use the update() method.\\n\\n#To add items from another set into the current set, use the update() method.\\n    thisset.update(tropical) # tropical can any iterable object (list,tuple)\\n    \\n#To remove an item in a set, use the remove(), or the discard() method.\\n    thisset.remove(\"banana\")\\n    thisset.discard(\"banana\")\\n    #If the item to remove does not exist, discard() will NOT raise an error.\\n    \\n    x = thisset.pop()\\n    thisset.clear()\\n    # clear() method empties the set\\n    \\n    del thisset #to delete whole set completely\\n\\n# Joins in sets\\n\\n    The union() method returns a new set with all items from both sets\\n        set3 = set1.union(set2)\\n    \\n    The update() method inserts the items in set2 into set1\\n        set1.update(set2)\\n    The intersection_update() method will keep only the items that are present in both sets\\n        x.intersection_update(y)\\n    The intersection() method will return a new set, that only contains the items that are present in both sets.\\n        z = x.intersection(y)\\n    The symmetric_difference_update() method will keep only the elements that are NOT present in both sets\\n        x.symmetric_difference_update(y)\\n'"
      ]
     },
     "execution_count": 11,
     "metadata": {},
     "output_type": "execute_result"
    }
   ],
   "source": [
    "# Set\n",
    "\"\"\"\n",
    "A set is a collection which is unordered, unchangeable*, and unindexed.\n",
    "Sets are written with curly brackets.\n",
    "Duplicate values will be ignored:\n",
    "\n",
    "# To add one item to a set use the add() method.\n",
    "    thisset = {\"apple\", \"banana\", \"cherry\"}\n",
    "    thisset.add(\"orange\")#To add items from another set into the current set, use the update() method.\n",
    "\n",
    "#To add items from another set into the current set, use the update() method.\n",
    "    thisset.update(tropical) # tropical can any iterable object (list,tuple)\n",
    "    \n",
    "#To remove an item in a set, use the remove(), or the discard() method.\n",
    "    thisset.remove(\"banana\")\n",
    "    thisset.discard(\"banana\")\n",
    "    #If the item to remove does not exist, discard() will NOT raise an error.\n",
    "    \n",
    "    x = thisset.pop()\n",
    "    thisset.clear()\n",
    "    # clear() method empties the set\n",
    "    \n",
    "    del thisset #to delete whole set completely\n",
    "\n",
    "# Joins in sets\n",
    "\n",
    "    The union() method returns a new set with all items from both sets\n",
    "        set3 = set1.union(set2)\n",
    "    \n",
    "    The update() method inserts the items in set2 into set1\n",
    "        set1.update(set2)\n",
    "    The intersection_update() method will keep only the items that are present in both sets\n",
    "        x.intersection_update(y)\n",
    "    The intersection() method will return a new set, that only contains the items that are present in both sets.\n",
    "        z = x.intersection(y)\n",
    "    The symmetric_difference_update() method will keep only the elements that are NOT present in both sets\n",
    "        x.symmetric_difference_update(y)\n",
    "\"\"\"\n"
   ]
  },
  {
   "cell_type": "code",
   "execution_count": 12,
   "id": "46285f49",
   "metadata": {},
   "outputs": [
    {
     "data": {
      "text/plain": [
       "'\\n    Dictionaries are used to store data values in key:value pairs.\\n    A dictionary is a collection which is ordered*, changeable and do not allow duplicates.\\n    Dictionaries are written with curly brackets, and have keys and values:\\n    \\n    x = thisdict.get(\"model\") # to get value of key\\n    x = thisdict.keys()\\n    x = thisdict.values()\\n    x = thisdict.items() #return list of key:value pair\\n    \\n    thisdict.update({\"year\": 2020}) # to change value\\n    \\n'"
      ]
     },
     "execution_count": 12,
     "metadata": {},
     "output_type": "execute_result"
    }
   ],
   "source": [
    "# Dictionary\n",
    "\"\"\"\n",
    "    Dictionaries are used to store data values in key:value pairs.\n",
    "    A dictionary is a collection which is ordered*, changeable and do not allow duplicates.\n",
    "    Dictionaries are written with curly brackets, and have keys and values:\n",
    "    \n",
    "    x = thisdict.get(\"model\") # to get value of key\n",
    "    x = thisdict.keys()\n",
    "    x = thisdict.values()\n",
    "    x = thisdict.items() #return list of key:value pair\n",
    "    \n",
    "    thisdict.update({\"year\": 2020}) # to change value\n",
    "    \n",
    "\"\"\""
   ]
  },
  {
   "cell_type": "code",
   "execution_count": 14,
   "id": "771b2d0b",
   "metadata": {},
   "outputs": [],
   "source": [
    "# If elif else ladder \n",
    "    # an example of short of if else\n",
    "#     a = 330\n",
    "#     b = 330\n",
    "#     print(\"A\") if a > b else print(\"=\") if a == b else print(\"B\")"
   ]
  },
  {
   "cell_type": "code",
   "execution_count": 15,
   "id": "e60e3840",
   "metadata": {},
   "outputs": [],
   "source": [
    "# Python has two primitive loop commands:\n",
    "#   #while loops\n",
    "#         i = 1\n",
    "#         while i < 6:\n",
    "#           print(i)\n",
    "#           i += 1\n",
    "#     #for loops\n",
    "#         fruits = [\"apple\", \"banana\", \"cherry\"]\n",
    "#         for x in fruits:\n",
    "#             print(x)"
   ]
  },
  {
   "cell_type": "code",
   "execution_count": 1,
   "id": "539b7f54",
   "metadata": {},
   "outputs": [
    {
     "data": {
      "text/plain": [
       "'Arbitrary Arguments, *args\\nThis way the function will receive a tuple of arguments, and can access the items accordingly:\\n    def my_function(*kids):\\n  print(\"The youngest child is \" + kids[2])\\n\\nmy_function(\"Emil\", \"Tobias\", \"Linus\")\\n\\nKeyword Arguments\\nYou can also send arguments with the key = value syntax.\\n\\nThis way the order of the arguments does not matter.\\n\\ndef my_function(child3, child2, child1):\\n  print(\"The youngest child is \" + child3)\\n\\nmy_function(child1 = \"Emil\", child2 = \"Tobias\", child3 = \"Linus\")\\n'"
      ]
     },
     "execution_count": 1,
     "metadata": {},
     "output_type": "execute_result"
    }
   ],
   "source": [
    "# Functions\n",
    "  #function is defined using 'def' keyword\n",
    "\n",
    "# A parameter is the variable listed inside the parentheses in the function definition.\n",
    "\n",
    "#An argument is the value that is sent to the function when it is called.\n",
    "\"\"\"Arbitrary Arguments, *args\n",
    "This way the function will receive a tuple of arguments, and can access the items accordingly:\n",
    "    def my_function(*kids):\n",
    "  print(\"The youngest child is \" + kids[2])\n",
    "\n",
    "my_function(\"Emil\", \"Tobias\", \"Linus\")\n",
    "\n",
    "Keyword Arguments\n",
    "You can also send arguments with the key = value syntax.\n",
    "\n",
    "This way the order of the arguments does not matter.\n",
    "\n",
    "def my_function(child3, child2, child1):\n",
    "  print(\"The youngest child is \" + child3)\n",
    "\n",
    "my_function(child1 = \"Emil\", child2 = \"Tobias\", child3 = \"Linus\")\n",
    "\"\"\""
   ]
  },
  {
   "cell_type": "code",
   "execution_count": null,
   "id": "f5c7a5df",
   "metadata": {},
   "outputs": [],
   "source": []
  }
 ],
 "metadata": {
  "kernelspec": {
   "display_name": "Python 3 (ipykernel)",
   "language": "python",
   "name": "python3"
  },
  "language_info": {
   "codemirror_mode": {
    "name": "ipython",
    "version": 3
   },
   "file_extension": ".py",
   "mimetype": "text/x-python",
   "name": "python",
   "nbconvert_exporter": "python",
   "pygments_lexer": "ipython3",
   "version": "3.9.12"
  }
 },
 "nbformat": 4,
 "nbformat_minor": 5
}
