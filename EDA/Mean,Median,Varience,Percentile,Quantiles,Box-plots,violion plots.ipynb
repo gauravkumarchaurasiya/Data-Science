{
 "cells": [
  {
   "cell_type": "code",
   "execution_count": 2,
   "id": "de0f4e8e",
   "metadata": {},
   "outputs": [],
   "source": [
    "import numpy as np \n",
    "import pandas as pd\n",
    "import matplotlib.pyplot as plt\n",
    "import seaborn as sns"
   ]
  },
  {
   "cell_type": "code",
   "execution_count": 7,
   "id": "6b676a67",
   "metadata": {},
   "outputs": [
    {
     "data": {
      "text/html": [
       "<div>\n",
       "<style scoped>\n",
       "    .dataframe tbody tr th:only-of-type {\n",
       "        vertical-align: middle;\n",
       "    }\n",
       "\n",
       "    .dataframe tbody tr th {\n",
       "        vertical-align: top;\n",
       "    }\n",
       "\n",
       "    .dataframe thead th {\n",
       "        text-align: right;\n",
       "    }\n",
       "</style>\n",
       "<table border=\"1\" class=\"dataframe\">\n",
       "  <thead>\n",
       "    <tr style=\"text-align: right;\">\n",
       "      <th></th>\n",
       "      <th>sepallength</th>\n",
       "      <th>sepalwidth</th>\n",
       "      <th>petallength</th>\n",
       "      <th>petalwidth</th>\n",
       "      <th>class</th>\n",
       "    </tr>\n",
       "  </thead>\n",
       "  <tbody>\n",
       "    <tr>\n",
       "      <th>0</th>\n",
       "      <td>5.1</td>\n",
       "      <td>3.5</td>\n",
       "      <td>1.4</td>\n",
       "      <td>0.2</td>\n",
       "      <td>Iris-setosa</td>\n",
       "    </tr>\n",
       "    <tr>\n",
       "      <th>1</th>\n",
       "      <td>4.9</td>\n",
       "      <td>3.0</td>\n",
       "      <td>1.4</td>\n",
       "      <td>0.2</td>\n",
       "      <td>Iris-setosa</td>\n",
       "    </tr>\n",
       "    <tr>\n",
       "      <th>2</th>\n",
       "      <td>4.7</td>\n",
       "      <td>3.2</td>\n",
       "      <td>1.3</td>\n",
       "      <td>0.2</td>\n",
       "      <td>Iris-setosa</td>\n",
       "    </tr>\n",
       "    <tr>\n",
       "      <th>3</th>\n",
       "      <td>4.6</td>\n",
       "      <td>3.1</td>\n",
       "      <td>1.5</td>\n",
       "      <td>0.2</td>\n",
       "      <td>Iris-setosa</td>\n",
       "    </tr>\n",
       "    <tr>\n",
       "      <th>4</th>\n",
       "      <td>5.0</td>\n",
       "      <td>3.6</td>\n",
       "      <td>1.4</td>\n",
       "      <td>0.2</td>\n",
       "      <td>Iris-setosa</td>\n",
       "    </tr>\n",
       "    <tr>\n",
       "      <th>...</th>\n",
       "      <td>...</td>\n",
       "      <td>...</td>\n",
       "      <td>...</td>\n",
       "      <td>...</td>\n",
       "      <td>...</td>\n",
       "    </tr>\n",
       "    <tr>\n",
       "      <th>145</th>\n",
       "      <td>6.7</td>\n",
       "      <td>3.0</td>\n",
       "      <td>5.2</td>\n",
       "      <td>2.3</td>\n",
       "      <td>Iris-virginica</td>\n",
       "    </tr>\n",
       "    <tr>\n",
       "      <th>146</th>\n",
       "      <td>6.3</td>\n",
       "      <td>2.5</td>\n",
       "      <td>5.0</td>\n",
       "      <td>1.9</td>\n",
       "      <td>Iris-virginica</td>\n",
       "    </tr>\n",
       "    <tr>\n",
       "      <th>147</th>\n",
       "      <td>6.5</td>\n",
       "      <td>3.0</td>\n",
       "      <td>5.2</td>\n",
       "      <td>2.0</td>\n",
       "      <td>Iris-virginica</td>\n",
       "    </tr>\n",
       "    <tr>\n",
       "      <th>148</th>\n",
       "      <td>6.2</td>\n",
       "      <td>3.4</td>\n",
       "      <td>5.4</td>\n",
       "      <td>2.3</td>\n",
       "      <td>Iris-virginica</td>\n",
       "    </tr>\n",
       "    <tr>\n",
       "      <th>149</th>\n",
       "      <td>5.9</td>\n",
       "      <td>3.0</td>\n",
       "      <td>5.1</td>\n",
       "      <td>1.8</td>\n",
       "      <td>Iris-virginica</td>\n",
       "    </tr>\n",
       "  </tbody>\n",
       "</table>\n",
       "<p>150 rows × 5 columns</p>\n",
       "</div>"
      ],
      "text/plain": [
       "     sepallength  sepalwidth  petallength  petalwidth           class\n",
       "0            5.1         3.5          1.4         0.2     Iris-setosa\n",
       "1            4.9         3.0          1.4         0.2     Iris-setosa\n",
       "2            4.7         3.2          1.3         0.2     Iris-setosa\n",
       "3            4.6         3.1          1.5         0.2     Iris-setosa\n",
       "4            5.0         3.6          1.4         0.2     Iris-setosa\n",
       "..           ...         ...          ...         ...             ...\n",
       "145          6.7         3.0          5.2         2.3  Iris-virginica\n",
       "146          6.3         2.5          5.0         1.9  Iris-virginica\n",
       "147          6.5         3.0          5.2         2.0  Iris-virginica\n",
       "148          6.2         3.4          5.4         2.3  Iris-virginica\n",
       "149          5.9         3.0          5.1         1.8  Iris-virginica\n",
       "\n",
       "[150 rows x 5 columns]"
      ]
     },
     "execution_count": 7,
     "metadata": {},
     "output_type": "execute_result"
    }
   ],
   "source": [
    "iris=pd.read_csv('iris_csv.csv')\n",
    "iris"
   ]
  },
  {
   "cell_type": "code",
   "execution_count": 13,
   "id": "f8e8534c",
   "metadata": {},
   "outputs": [],
   "source": [
    "iris_setosa=iris.loc[iris['class']=='Iris-setosa']\n"
   ]
  },
  {
   "cell_type": "code",
   "execution_count": 11,
   "id": "43ff586f",
   "metadata": {},
   "outputs": [],
   "source": [
    "iris_virginica=iris.loc[iris['class']=='Iris-virginica']\n"
   ]
  },
  {
   "cell_type": "code",
   "execution_count": 12,
   "id": "7bbf72cd",
   "metadata": {},
   "outputs": [],
   "source": [
    "iris_versicolor=iris.loc[iris['class']=='Iris-versicolor']\n"
   ]
  },
  {
   "cell_type": "code",
   "execution_count": 20,
   "id": "f480a7d5",
   "metadata": {},
   "outputs": [
    {
     "name": "stdout",
     "output_type": "stream",
     "text": [
      "1.464\n",
      "2.4156862745098038\n",
      "4.26\n",
      "5.552\n"
     ]
    }
   ],
   "source": [
    "# Mean \n",
    "# tell about centeral tendency\n",
    "\n",
    "# mean can change drastically with one outlier\n",
    "\n",
    "print(np.mean(iris_setosa[\"petallength\"]))\n",
    "\n",
    "# mean with outlier\n",
    "print(np.mean(np.append(iris_setosa['petallength'],50)))\n",
    "print(np.mean(iris_versicolor[\"petallength\"]))\n",
    "print(np.mean(iris_virginica[\"petallength\"]))"
   ]
  },
  {
   "cell_type": "code",
   "execution_count": 17,
   "id": "5b9e462f",
   "metadata": {},
   "outputs": [
    {
     "name": "stdout",
     "output_type": "stream",
     "text": [
      "1.5\n"
     ]
    }
   ],
   "source": [
    "# Standard Deviation\n",
    "# is the square root of varience\n",
    " # varience tell about the spread of data \n",
    "    # var is average sum square distance from mean\n",
    "    \n",
    "print(np.median(iris_setosa['petallength']))"
   ]
  },
  {
   "cell_type": "code",
   "execution_count": 21,
   "id": "c293663f",
   "metadata": {},
   "outputs": [
    {
     "name": "stdout",
     "output_type": "stream",
     "text": [
      "1.5\n",
      "1.5\n"
     ]
    }
   ],
   "source": [
    "#Median\n",
    "# median tends to similar mean but it does not much vary with some outliers\n",
    "\n",
    "print(np.median(iris_setosa['petallength']))\n",
    "print(np.median(np.append(iris_setosa['petallength'],50)))"
   ]
  },
  {
   "cell_type": "code",
   "execution_count": 24,
   "id": "f33f91f0",
   "metadata": {},
   "outputs": [
    {
     "name": "stdout",
     "output_type": "stream",
     "text": [
      "[1.    1.4   1.5   1.575]\n",
      "90th percentile\n",
      "1.7\n"
     ]
    }
   ],
   "source": [
    "#Percentile - tell about this value lies in this percentile\n",
    "# 25,50,75,100 percentile is known as quantiles\n",
    "\n",
    "print(np.percentile(iris_setosa[\"petallength\"],np.arange(0,100,25)))\n",
    "\n",
    "print('90th percentile')\n",
    "print(np.percentile(iris_setosa[\"petallength\"],90))"
   ]
  },
  {
   "cell_type": "code",
   "execution_count": 25,
   "id": "5c7162c2",
   "metadata": {},
   "outputs": [
    {
     "name": "stdout",
     "output_type": "stream",
     "text": [
      "0.14826022185056031\n"
     ]
    }
   ],
   "source": [
    "# Median Absolute Deviation\n",
    "# MAD - std dev but with median \n",
    "\n",
    "from statsmodels import robust\n",
    "print(robust.mad(iris_setosa['petallength']))"
   ]
  },
  {
   "cell_type": "code",
   "execution_count": 26,
   "id": "0a0d9301",
   "metadata": {},
   "outputs": [
    {
     "data": {
      "text/plain": [
       "<AxesSubplot:xlabel='class', ylabel='petallength'>"
      ]
     },
     "execution_count": 26,
     "metadata": {},
     "output_type": "execute_result"
    },
    {
     "data": {
      "image/png": "[encoded data removed]",
      "text/plain": [
       "<Figure size 432x288 with 1 Axes>"
      ]
     },
     "metadata": {
      "needs_background": "light"
     },
     "output_type": "display_data"
    }
   ],
   "source": [
    "# BOX plot\n",
    "# to represt and understand percentilse and quantile easly \n",
    "\n",
    "sns.boxplot(x='class',y='petallength',data=iris)"
   ]
  },
  {
   "cell_type": "code",
   "execution_count": null,
   "id": "dc974069",
   "metadata": {},
   "outputs": [],
   "source": [
    "#violin plot - combination of box plot and pdf\n",
    "\n",
    "sns.violinplot(x='cal')"
   ]
  }
 ],
 "metadata": {
  "kernelspec": {
   "display_name": "Python 3 (ipykernel)",
   "language": "python",
   "name": "python3"
  },
  "language_info": {
   "codemirror_mode": {
    "name": "ipython",
    "version": 3
   },
   "file_extension": ".py",
   "mimetype": "text/x-python",
   "name": "python",
   "nbconvert_exporter": "python",
   "pygments_lexer": "ipython3",
   "version": "3.9.12"
  }
 },
 "nbformat": 4,
 "nbformat_minor": 5
}
